{
 "cells": [
  {
   "cell_type": "markdown",
   "metadata": {},
   "source": [
    "# Arte de la analítica"
   ]
  },
  {
   "cell_type": "markdown",
   "metadata": {},
   "source": [
    "1.\n",
    "Escribir una función de Python que encuentre los números primos en los primeros N números naturales.\n",
    "N es el argumento de la función\n",
    "Llamar la función desde el código principal\n"
   ]
  },
  {
   "cell_type": "code",
   "execution_count": 9,
   "metadata": {},
   "outputs": [
    {
     "name": "stdout",
     "output_type": "stream",
     "text": [
      "N: 10\n",
      "2\n",
      "3\n",
      "5\n",
      "7\n"
     ]
    }
   ],
   "source": [
    "n = int(input (\"N: \")) \n",
    "     \n",
    "def numPrimos (n):\n",
    "    for number in range (2, n + 1):  \n",
    "        if number > 1:  \n",
    "            for i in range (2, number):  \n",
    "                if (number % i) == 0:  \n",
    "                    break  \n",
    "            else:  \n",
    "                print (number) \n",
    "    \n",
    "numPrimos(n)"
   ]
  },
  {
   "cell_type": "markdown",
   "metadata": {},
   "source": [
    "2.\n",
    "Escribir una función de Pyton que encuentre el producto cruz en vectores de 3 componentes.\n",
    "La función recibe dos listas (vectores)\n",
    "La función regresa un tercer vector (lista) con el resultado\n",
    "Llamar a la función desde el código principal\n"
   ]
  },
  {
   "cell_type": "code",
   "execution_count": null,
   "metadata": {},
   "outputs": [],
   "source": [
    "def cross(v1, v2):\n",
    "    lst = []\n",
    "    lst.append(v1[1]*v2[2] - v1[2]*v2[1])\n",
    "    lst.append(v1[0] * v2[2] - v1[2]*v2[0])\n",
    "    lst.append(v1[0] * v2[1] - v1[0]*v2[1])\n",
    "    return lst\n",
    "\n",
    "a = [1, 2, 4]\n",
    "b = [3, 4, 2]\n",
    "print(cross(a, b))"
   ]
  },
  {
   "cell_type": "markdown",
   "metadata": {},
   "source": [
    "3.\n",
    "Re-escribir el problema 2, pero ahora los vectores son leídos desde un archivo de texto."
   ]
  },
  {
   "cell_type": "code",
   "execution_count": 10,
   "metadata": {},
   "outputs": [
    {
     "name": "stdout",
     "output_type": "stream",
     "text": [
      "[['1', ' 2', ' 4'], ['3', ' 4', ' 2']]\n",
      "[-12, -10, 0]\n",
      "a=  [1.0, 2.0, 4.0]\n",
      "b=  [3.0, 4.0, 2.0]\n",
      "a x b = [-12.0, -10.0, 0.0]\n"
     ]
    }
   ],
   "source": [
    "import csv\n",
    "filas = []\n",
    "with open(\"vectors.csv\", 'r') as file:\n",
    "    csvr = csv.reader(file)\n",
    "    for row in csvr:\n",
    "        filas.append(row)\n",
    "print(filas)\n",
    "\n",
    "def cross(v1, v2):\n",
    "    lst = []\n",
    "    lst.append(v1[1]*v2[2] - v1[2]*v2[1])\n",
    "    lst.append(v1[0] * v2[2] - v1[2]*v2[0])\n",
    "    lst.append(v1[0] * v2[1] - v1[0]*v2[1])\n",
    "    return lst\n",
    "\n",
    "a = [1, 2, 4]\n",
    "b = [3, 4, 2]\n",
    "print(cross(a, b))\n",
    "x = [float(filas[0][0]), float(filas[0][1]), float(filas[0][2])]\n",
    "y = [float(filas[1][0]), float(filas[1][1]), float(filas[1][2])]\n",
    "\n",
    "cr = cross(x, y)\n",
    "print(\"a= \", x)\n",
    "print(\"b= \", y)\n",
    "print(\"a x b =\", cr)"
   ]
  },
  {
   "cell_type": "code",
   "execution_count": null,
   "metadata": {},
   "outputs": [],
   "source": []
  }
 ],
 "metadata": {
  "kernelspec": {
   "display_name": "Python 3",
   "language": "python",
   "name": "python3"
  },
  "language_info": {
   "codemirror_mode": {
    "name": "ipython",
    "version": 3
   },
   "file_extension": ".py",
   "mimetype": "text/x-python",
   "name": "python",
   "nbconvert_exporter": "python",
   "pygments_lexer": "ipython3",
   "version": "3.8.3"
  }
 },
 "nbformat": 4,
 "nbformat_minor": 4
}
